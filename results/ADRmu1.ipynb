{
 "cells": [
  {
   "cell_type": "code",
   "execution_count": null,
   "metadata": {},
   "outputs": [],
   "source": [
    "import pandas as pd\n",
    "import matplotlib.pyplot as plt\n",
    "from matplotlib.ticker import FormatStrFormatter\n",
    "\n",
    "# Fetch data\n",
    "columns = [\"Time\", \"3458A\"]\n",
    "raw=pd.read_csv(\"https://raw.githubusercontent.com/marcoreps/multiinstrumentalist/master/csv/ADRmu1-3458A.csv\", usecols=columns)\n",
    "\n",
    "# Use datetime as index\n",
    "raw[columns[0]] = pd.to_datetime(raw[columns[0]])\n",
    "raw = raw.set_index(pd.DatetimeIndex(raw[columns[0]]))\n",
    "raw = raw.drop('Time', axis=1)\n",
    "\n",
    "# Print some stats\n",
    "print(\"We have \"+str(raw.index.max() - raw.index.min())+\" worth of data for this one:\")\n",
    "print(\"Points=\"+str(raw[columns[1]].count())+\" \\\n",
    "Min=\"+str(raw[columns[1]].min())+\" \\\n",
    "Max=\"+str(raw[columns[1]].max())+\" \\\n",
    "Mean=\"+str(raw[columns[1]].mean())+\" \\\n",
    "Std=\"+str(raw[columns[1]].std()))\n",
    "\n",
    "# Conversion functions for secondary Y-axis\n",
    "def to_ppm(x):\n",
    "    return (x-raw[columns[1]].mean())/.00001\n",
    "\n",
    "def from_ppm(x):\n",
    "    return x*.00001+raw[columns[1]].mean()\n",
    "\n",
    "# Set up a plot\n",
    "plt.rcParams[\"figure.figsize\"] = [14, 7]\n",
    "fig, ax = plt.subplots()\n",
    "ax.grid()\n",
    "ax.set(xlabel='time', ylabel='voltage (V)', title='ADRmu1 vs HP 3458A')\n",
    "ax.plot(raw)\n",
    "\n",
    "# Set up a secondary Y-axis\n",
    "secax = ax.secondary_yaxis('right', functions=(to_ppm, from_ppm))\n",
    "secax.set_ylabel('deviation from mean (µV/V)')\n",
    "ax.yaxis.set_major_formatter(FormatStrFormatter('%.7f'))\n",
    "\n",
    "plt.show()\n"
   ]
  }
 ],
 "metadata": {
  "kernelspec": {
   "display_name": "Python 3",
   "language": "python",
   "name": "python3"
  },
  "language_info": {
   "codemirror_mode": {
    "name": "ipython",
    "version": 3
   },
   "file_extension": ".py",
   "mimetype": "text/x-python",
   "name": "python",
   "nbconvert_exporter": "python",
   "pygments_lexer": "ipython3",
   "version": "3.7.6"
  }
 },
 "nbformat": 4,
 "nbformat_minor": 4
}
