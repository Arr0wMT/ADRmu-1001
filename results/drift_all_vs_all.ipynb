{
 "cells": [
  {
   "cell_type": "code",
   "execution_count": 1,
   "metadata": {},
   "outputs": [
    {
     "ename": "NameError",
     "evalue": "name 'MUvsMU' is not defined",
     "output_type": "error",
     "traceback": [
      "\u001b[1;31m---------------------------------------------------------------------------\u001b[0m",
      "\u001b[1;31mNameError\u001b[0m                                 Traceback (most recent call last)",
      "\u001b[1;32m<ipython-input-1-24010dd6d12d>\u001b[0m in \u001b[0;36m<module>\u001b[1;34m\u001b[0m\n\u001b[0;32m     62\u001b[0m \u001b[0mdevice_permutations\u001b[0m \u001b[1;33m=\u001b[0m \u001b[0mlist\u001b[0m\u001b[1;33m(\u001b[0m\u001b[0mitertools\u001b[0m\u001b[1;33m.\u001b[0m\u001b[0mproduct\u001b[0m\u001b[1;33m(\u001b[0m\u001b[0mdevices\u001b[0m\u001b[1;33m,\u001b[0m \u001b[0mdevices\u001b[0m\u001b[1;33m)\u001b[0m\u001b[1;33m)\u001b[0m\u001b[1;33m\u001b[0m\u001b[1;33m\u001b[0m\u001b[0m\n\u001b[0;32m     63\u001b[0m \u001b[1;32mfor\u001b[0m \u001b[0mperm\u001b[0m \u001b[1;32min\u001b[0m \u001b[0mdevice_permutations\u001b[0m\u001b[1;33m:\u001b[0m\u001b[1;33m\u001b[0m\u001b[1;33m\u001b[0m\u001b[0m\n\u001b[1;32m---> 64\u001b[1;33m     \u001b[0mMUvsMU\u001b[0m\u001b[1;33m(\u001b[0m\u001b[0mperm\u001b[0m\u001b[1;33m[\u001b[0m\u001b[1;36m0\u001b[0m\u001b[1;33m]\u001b[0m\u001b[1;33m,\u001b[0m \u001b[0mperm\u001b[0m\u001b[1;33m[\u001b[0m\u001b[1;36m1\u001b[0m\u001b[1;33m]\u001b[0m\u001b[1;33m)\u001b[0m\u001b[1;33m\u001b[0m\u001b[1;33m\u001b[0m\u001b[0m\n\u001b[0m",
      "\u001b[1;31mNameError\u001b[0m: name 'MUvsMU' is not defined"
     ]
    }
   ],
   "source": [
    "import pandas as pd\n",
    "import matplotlib.pyplot as plt\n",
    "from matplotlib.ticker import FormatStrFormatter\n",
    "import itertools\n",
    "\n",
    "def MUvsMu(dut, ref_group, dmm):\n",
    "    \n",
    "    # Fetch data\n",
    "    url = \"https://raw.githubusercontent.com/marcoreps/multiinstrumentalist/master/csv/\"\n",
    "    columns = [\"Time\", \"3458A\"]\n",
    "    DUT=pd.read_csv(url+dut+\"-\"+dmm+\".csv\", usecols=columns)\n",
    "    ref_dataframes = [pd.read_csv(url+ref+\"-\"+dmm+\".csv\", usecols=columns) for ref in ref_group]\n",
    "\n",
    "    # Use datetime as index\n",
    "    DUT_one[\"Time\"] = pd.to_datetime(DUT_one[\"Time\"], unit='ms')\n",
    "    DUT_one = DUT_one.set_index(pd.DatetimeIndex(DUT_one[\"Time\"]))\n",
    "    DUT_one = DUT_one.drop('Time', axis=1)\n",
    "    DUT_one = DUT_one.rename(columns={\"3458A\": \"one\"})\n",
    "\n",
    "    # Resample to one daily value\n",
    "    daily_one = DUT_one.resample(\"d\").median()\n",
    "\n",
    "    DUT_two[\"Time\"] = pd.to_datetime(DUT_two[\"Time\"], unit='ms')\n",
    "    DUT_two = DUT_two.set_index(pd.DatetimeIndex(DUT_two[\"Time\"]))\n",
    "    DUT_two = DUT_two.drop('Time', axis=1)\n",
    "    DUT_two = DUT_two.rename(columns={\"3458A\": \"two\"})\n",
    "    daily_two = DUT_two.resample(\"d\").median()\n",
    "\n",
    "    # Join one and two based on day\n",
    "    both = daily_one.join(daily_two, on=\"Time\")\n",
    "    both = both.dropna()\n",
    "    both[\"diff\"] = abs(both[\"one\"] - both[\"two\"])\n",
    "\n",
    "    #Print some stats\n",
    "    print(\"Both were measured on \"+str(len(both))+\" days:\")\n",
    "    print(\"Max diff=\"+str(both[\"diff\"].max())+\" \\\n",
    "    Mean=\"+str(both[\"diff\"].mean())+\" \\\n",
    "    Std=\"+str(both[\"diff\"].std()))\n",
    "\n",
    "    # Conversion functions for secondary Y-axis\n",
    "    def to_ppm(x):\n",
    "        return (x-both[\"diff\"].mean())/.00001\n",
    "\n",
    "    def from_ppm(x):\n",
    "        return x*.00001+both[\"diff\"].mean()\n",
    "\n",
    "    # Set up a plot\n",
    "    plt.rcParams[\"figure.figsize\"] = [14, 7]\n",
    "    fig, ax = plt.subplots()\n",
    "    ax.grid()\n",
    "    ax.set(xlabel='time', ylabel='difference (V)', title=dut1+' vs '+dut2)\n",
    "    ax.plot(both[\"diff\"])\n",
    "\n",
    "    # Set up a secondary Y-axis\n",
    "    secax = ax.secondary_yaxis('right', functions=(to_ppm, from_ppm))\n",
    "    secax.set_ylabel('deviation from mean (µV/V)')\n",
    "    ax.yaxis.set_major_formatter(FormatStrFormatter('%.7f'))\n",
    "\n",
    "    plt.show()\n",
    "\n",
    "devices = [\"ADRmu1\", \"ADRmu2\", \"ADRmu3\", \"ADRmu4\", \"ADRmu5\", \"ADRmu7\", \"ADRmu9\", \"ADRmu10\", \"ADRmu11\", \"ADRmu12\", \"ADRmu13\", \"ADRmu108\", \"F731B\", ]\n",
    "device_permutations = list(itertools.product(devices, devices))\n",
    "for perm in device_permutations:\n",
    "    MUvsMU(perm[0], perm[1])"
   ]
  },
  {
   "cell_type": "code",
   "execution_count": null,
   "metadata": {},
   "outputs": [],
   "source": []
  }
 ],
 "metadata": {
  "kernelspec": {
   "display_name": "Python 3",
   "language": "python",
   "name": "python3"
  },
  "language_info": {
   "codemirror_mode": {
    "name": "ipython",
    "version": 3
   },
   "file_extension": ".py",
   "mimetype": "text/x-python",
   "name": "python",
   "nbconvert_exporter": "python",
   "pygments_lexer": "ipython3",
   "version": "3.7.6"
  }
 },
 "nbformat": 4,
 "nbformat_minor": 4
}
